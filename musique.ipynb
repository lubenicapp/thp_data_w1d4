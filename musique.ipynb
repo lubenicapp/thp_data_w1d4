{
 "cells": [
  {
   "cell_type": "markdown",
   "id": "3d2b7069",
   "metadata": {},
   "source": [
    "# La musique dans la peau"
   ]
  },
  {
   "cell_type": "code",
   "execution_count": 1,
   "id": "ea44cb70",
   "metadata": {},
   "outputs": [],
   "source": [
    "import sqlite3 as sq3"
   ]
  },
  {
   "cell_type": "code",
   "execution_count": 2,
   "id": "8581081b",
   "metadata": {},
   "outputs": [],
   "source": [
    "# connect to the database\n",
    "con = sq3.connect('chinook.db')"
   ]
  },
  {
   "cell_type": "code",
   "execution_count": 3,
   "id": "1c77ea49",
   "metadata": {},
   "outputs": [],
   "source": [
    "cur = con.cursor()"
   ]
  },
  {
   "cell_type": "markdown",
   "id": "af8ff047",
   "metadata": {},
   "source": [
    "### Inspect the database tables and columns"
   ]
  },
  {
   "cell_type": "code",
   "execution_count": 4,
   "id": "780a38e4",
   "metadata": {},
   "outputs": [
    {
     "data": {
      "text/plain": [
       "[('albums',),\n",
       " ('sqlite_sequence',),\n",
       " ('artists',),\n",
       " ('customers',),\n",
       " ('employees',),\n",
       " ('genres',),\n",
       " ('invoices',),\n",
       " ('invoice_items',),\n",
       " ('media_types',),\n",
       " ('playlists',),\n",
       " ('playlist_track',),\n",
       " ('tracks',),\n",
       " ('sqlite_stat1',)]"
      ]
     },
     "execution_count": 4,
     "metadata": {},
     "output_type": "execute_result"
    }
   ],
   "source": [
    "cur.execute(\"SELECT name FROM sqlite_master WHERE type='table';\").fetchall()"
   ]
  },
  {
   "cell_type": "code",
   "execution_count": 5,
   "id": "fc696c26",
   "metadata": {},
   "outputs": [
    {
     "data": {
      "text/plain": [
       "[('table',\n",
       "  'albums',\n",
       "  'albums',\n",
       "  2,\n",
       "  'CREATE TABLE \"albums\"\\r\\n(\\r\\n    [AlbumId] INTEGER PRIMARY KEY AUTOINCREMENT NOT NULL,\\r\\n    [Title] NVARCHAR(160)  NOT NULL,\\r\\n    [ArtistId] INTEGER  NOT NULL,\\r\\n    FOREIGN KEY ([ArtistId]) REFERENCES \"artists\" ([ArtistId]) \\r\\n\\t\\tON DELETE NO ACTION ON UPDATE NO ACTION\\r\\n)'),\n",
       " ('table',\n",
       "  'sqlite_sequence',\n",
       "  'sqlite_sequence',\n",
       "  3,\n",
       "  'CREATE TABLE sqlite_sequence(name,seq)'),\n",
       " ('table',\n",
       "  'artists',\n",
       "  'artists',\n",
       "  4,\n",
       "  'CREATE TABLE \"artists\"\\r\\n(\\r\\n    [ArtistId] INTEGER PRIMARY KEY AUTOINCREMENT NOT NULL,\\r\\n    [Name] NVARCHAR(120)\\r\\n)'),\n",
       " ('table',\n",
       "  'customers',\n",
       "  'customers',\n",
       "  5,\n",
       "  'CREATE TABLE \"customers\"\\r\\n(\\r\\n    [CustomerId] INTEGER PRIMARY KEY AUTOINCREMENT NOT NULL,\\r\\n    [FirstName] NVARCHAR(40)  NOT NULL,\\r\\n    [LastName] NVARCHAR(20)  NOT NULL,\\r\\n    [Company] NVARCHAR(80),\\r\\n    [Address] NVARCHAR(70),\\r\\n    [City] NVARCHAR(40),\\r\\n    [State] NVARCHAR(40),\\r\\n    [Country] NVARCHAR(40),\\r\\n    [PostalCode] NVARCHAR(10),\\r\\n    [Phone] NVARCHAR(24),\\r\\n    [Fax] NVARCHAR(24),\\r\\n    [Email] NVARCHAR(60)  NOT NULL,\\r\\n    [SupportRepId] INTEGER,\\r\\n    FOREIGN KEY ([SupportRepId]) REFERENCES \"employees\" ([EmployeeId]) \\r\\n\\t\\tON DELETE NO ACTION ON UPDATE NO ACTION\\r\\n)'),\n",
       " ('table',\n",
       "  'employees',\n",
       "  'employees',\n",
       "  8,\n",
       "  'CREATE TABLE \"employees\"\\r\\n(\\r\\n    [EmployeeId] INTEGER PRIMARY KEY AUTOINCREMENT NOT NULL,\\r\\n    [LastName] NVARCHAR(20)  NOT NULL,\\r\\n    [FirstName] NVARCHAR(20)  NOT NULL,\\r\\n    [Title] NVARCHAR(30),\\r\\n    [ReportsTo] INTEGER,\\r\\n    [BirthDate] DATETIME,\\r\\n    [HireDate] DATETIME,\\r\\n    [Address] NVARCHAR(70),\\r\\n    [City] NVARCHAR(40),\\r\\n    [State] NVARCHAR(40),\\r\\n    [Country] NVARCHAR(40),\\r\\n    [PostalCode] NVARCHAR(10),\\r\\n    [Phone] NVARCHAR(24),\\r\\n    [Fax] NVARCHAR(24),\\r\\n    [Email] NVARCHAR(60),\\r\\n    FOREIGN KEY ([ReportsTo]) REFERENCES \"employees\" ([EmployeeId]) \\r\\n\\t\\tON DELETE NO ACTION ON UPDATE NO ACTION\\r\\n)'),\n",
       " ('table',\n",
       "  'genres',\n",
       "  'genres',\n",
       "  10,\n",
       "  'CREATE TABLE \"genres\"\\r\\n(\\r\\n    [GenreId] INTEGER PRIMARY KEY AUTOINCREMENT NOT NULL,\\r\\n    [Name] NVARCHAR(120)\\r\\n)'),\n",
       " ('table',\n",
       "  'invoices',\n",
       "  'invoices',\n",
       "  11,\n",
       "  'CREATE TABLE \"invoices\"\\r\\n(\\r\\n    [InvoiceId] INTEGER PRIMARY KEY AUTOINCREMENT NOT NULL,\\r\\n    [CustomerId] INTEGER  NOT NULL,\\r\\n    [InvoiceDate] DATETIME  NOT NULL,\\r\\n    [BillingAddress] NVARCHAR(70),\\r\\n    [BillingCity] NVARCHAR(40),\\r\\n    [BillingState] NVARCHAR(40),\\r\\n    [BillingCountry] NVARCHAR(40),\\r\\n    [BillingPostalCode] NVARCHAR(10),\\r\\n    [Total] NUMERIC(10,2)  NOT NULL,\\r\\n    FOREIGN KEY ([CustomerId]) REFERENCES \"customers\" ([CustomerId]) \\r\\n\\t\\tON DELETE NO ACTION ON UPDATE NO ACTION\\r\\n)'),\n",
       " ('table',\n",
       "  'invoice_items',\n",
       "  'invoice_items',\n",
       "  13,\n",
       "  'CREATE TABLE \"invoice_items\"\\r\\n(\\r\\n    [InvoiceLineId] INTEGER PRIMARY KEY AUTOINCREMENT NOT NULL,\\r\\n    [InvoiceId] INTEGER  NOT NULL,\\r\\n    [TrackId] INTEGER  NOT NULL,\\r\\n    [UnitPrice] NUMERIC(10,2)  NOT NULL,\\r\\n    [Quantity] INTEGER  NOT NULL,\\r\\n    FOREIGN KEY ([InvoiceId]) REFERENCES \"invoices\" ([InvoiceId]) \\r\\n\\t\\tON DELETE NO ACTION ON UPDATE NO ACTION,\\r\\n    FOREIGN KEY ([TrackId]) REFERENCES \"tracks\" ([TrackId]) \\r\\n\\t\\tON DELETE NO ACTION ON UPDATE NO ACTION\\r\\n)'),\n",
       " ('table',\n",
       "  'media_types',\n",
       "  'media_types',\n",
       "  15,\n",
       "  'CREATE TABLE \"media_types\"\\r\\n(\\r\\n    [MediaTypeId] INTEGER PRIMARY KEY AUTOINCREMENT NOT NULL,\\r\\n    [Name] NVARCHAR(120)\\r\\n)'),\n",
       " ('table',\n",
       "  'playlists',\n",
       "  'playlists',\n",
       "  16,\n",
       "  'CREATE TABLE \"playlists\"\\r\\n(\\r\\n    [PlaylistId] INTEGER PRIMARY KEY AUTOINCREMENT NOT NULL,\\r\\n    [Name] NVARCHAR(120)\\r\\n)'),\n",
       " ('table',\n",
       "  'playlist_track',\n",
       "  'playlist_track',\n",
       "  17,\n",
       "  'CREATE TABLE \"playlist_track\"\\r\\n(\\r\\n    [PlaylistId] INTEGER  NOT NULL,\\r\\n    [TrackId] INTEGER  NOT NULL,\\r\\n    CONSTRAINT [PK_PlaylistTrack] PRIMARY KEY  ([PlaylistId], [TrackId]),\\r\\n    FOREIGN KEY ([PlaylistId]) REFERENCES \"playlists\" ([PlaylistId]) \\r\\n\\t\\tON DELETE NO ACTION ON UPDATE NO ACTION,\\r\\n    FOREIGN KEY ([TrackId]) REFERENCES \"tracks\" ([TrackId]) \\r\\n\\t\\tON DELETE NO ACTION ON UPDATE NO ACTION\\r\\n)'),\n",
       " ('index', 'sqlite_autoindex_playlist_track_1', 'playlist_track', 18, None),\n",
       " ('table',\n",
       "  'tracks',\n",
       "  'tracks',\n",
       "  20,\n",
       "  'CREATE TABLE \"tracks\"\\r\\n(\\r\\n    [TrackId] INTEGER PRIMARY KEY AUTOINCREMENT NOT NULL,\\r\\n    [Name] NVARCHAR(200)  NOT NULL,\\r\\n    [AlbumId] INTEGER,\\r\\n    [MediaTypeId] INTEGER  NOT NULL,\\r\\n    [GenreId] INTEGER,\\r\\n    [Composer] NVARCHAR(220),\\r\\n    [Milliseconds] INTEGER  NOT NULL,\\r\\n    [Bytes] INTEGER,\\r\\n    [UnitPrice] NUMERIC(10,2)  NOT NULL,\\r\\n    FOREIGN KEY ([AlbumId]) REFERENCES \"albums\" ([AlbumId]) \\r\\n\\t\\tON DELETE NO ACTION ON UPDATE NO ACTION,\\r\\n    FOREIGN KEY ([GenreId]) REFERENCES \"genres\" ([GenreId]) \\r\\n\\t\\tON DELETE NO ACTION ON UPDATE NO ACTION,\\r\\n    FOREIGN KEY ([MediaTypeId]) REFERENCES \"media_types\" ([MediaTypeId]) \\r\\n\\t\\tON DELETE NO ACTION ON UPDATE NO ACTION\\r\\n)'),\n",
       " ('index',\n",
       "  'IFK_AlbumArtistId',\n",
       "  'albums',\n",
       "  22,\n",
       "  'CREATE INDEX [IFK_AlbumArtistId] ON \"albums\" ([ArtistId])'),\n",
       " ('index',\n",
       "  'IFK_CustomerSupportRepId',\n",
       "  'customers',\n",
       "  23,\n",
       "  'CREATE INDEX [IFK_CustomerSupportRepId] ON \"customers\" ([SupportRepId])'),\n",
       " ('index',\n",
       "  'IFK_EmployeeReportsTo',\n",
       "  'employees',\n",
       "  24,\n",
       "  'CREATE INDEX [IFK_EmployeeReportsTo] ON \"employees\" ([ReportsTo])'),\n",
       " ('index',\n",
       "  'IFK_InvoiceCustomerId',\n",
       "  'invoices',\n",
       "  26,\n",
       "  'CREATE INDEX [IFK_InvoiceCustomerId] ON \"invoices\" ([CustomerId])'),\n",
       " ('index',\n",
       "  'IFK_InvoiceLineInvoiceId',\n",
       "  'invoice_items',\n",
       "  27,\n",
       "  'CREATE INDEX [IFK_InvoiceLineInvoiceId] ON \"invoice_items\" ([InvoiceId])'),\n",
       " ('index',\n",
       "  'IFK_InvoiceLineTrackId',\n",
       "  'invoice_items',\n",
       "  28,\n",
       "  'CREATE INDEX [IFK_InvoiceLineTrackId] ON \"invoice_items\" ([TrackId])'),\n",
       " ('index',\n",
       "  'IFK_PlaylistTrackTrackId',\n",
       "  'playlist_track',\n",
       "  29,\n",
       "  'CREATE INDEX [IFK_PlaylistTrackTrackId] ON \"playlist_track\" ([TrackId])'),\n",
       " ('index',\n",
       "  'IFK_TrackAlbumId',\n",
       "  'tracks',\n",
       "  30,\n",
       "  'CREATE INDEX [IFK_TrackAlbumId] ON \"tracks\" ([AlbumId])'),\n",
       " ('index',\n",
       "  'IFK_TrackGenreId',\n",
       "  'tracks',\n",
       "  31,\n",
       "  'CREATE INDEX [IFK_TrackGenreId] ON \"tracks\" ([GenreId])'),\n",
       " ('index',\n",
       "  'IFK_TrackMediaTypeId',\n",
       "  'tracks',\n",
       "  32,\n",
       "  'CREATE INDEX [IFK_TrackMediaTypeId] ON \"tracks\" ([MediaTypeId])'),\n",
       " ('table',\n",
       "  'sqlite_stat1',\n",
       "  'sqlite_stat1',\n",
       "  864,\n",
       "  'CREATE TABLE sqlite_stat1(tbl,idx,stat)')]"
      ]
     },
     "execution_count": 5,
     "metadata": {},
     "output_type": "execute_result"
    }
   ],
   "source": [
    "cur.execute(\"SELECT * FROM sqlite_master\").fetchall()"
   ]
  },
  {
   "cell_type": "markdown",
   "id": "31ff8c7f",
   "metadata": {},
   "source": [
    "## Récupérer tous les albums"
   ]
  },
  {
   "cell_type": "code",
   "execution_count": 6,
   "id": "111ae1a3",
   "metadata": {},
   "outputs": [],
   "source": [
    "query = \"SELECT * FROM albums\""
   ]
  },
  {
   "cell_type": "code",
   "execution_count": 7,
   "id": "0ea3b1d0",
   "metadata": {},
   "outputs": [
    {
     "data": {
      "text/plain": [
       "[(1, 'For Those About To Rock We Salute You', 1),\n",
       " (2, 'Balls to the Wall', 2),\n",
       " (3, 'Restless and Wild', 2),\n",
       " (4, 'Let There Be Rock', 1),\n",
       " (5, 'Big Ones', 3),\n",
       " (6, 'Jagged Little Pill', 4),\n",
       " (7, 'Facelift', 5),\n",
       " (8, 'Warner 25 Anos', 6),\n",
       " (9, 'Plays Metallica By Four Cellos', 7),\n",
       " (10, 'Audioslave', 8),\n",
       " (11, 'Out Of Exile', 8),\n",
       " (12, 'BackBeat Soundtrack', 9),\n",
       " (13, 'The Best Of Billy Cobham', 10),\n",
       " (14, 'Alcohol Fueled Brewtality Live! [Disc 1]', 11),\n",
       " (15, 'Alcohol Fueled Brewtality Live! [Disc 2]', 11),\n",
       " (16, 'Black Sabbath', 12),\n",
       " (17, 'Black Sabbath Vol. 4 (Remaster)', 12),\n",
       " (18, 'Body Count', 13),\n",
       " (19, 'Chemical Wedding', 14),\n",
       " (20, 'The Best Of Buddy Guy - The Millenium Collection', 15),\n",
       " (21, 'Prenda Minha', 16),\n",
       " (22, 'Sozinho Remix Ao Vivo', 16),\n",
       " (23, 'Minha Historia', 17),\n",
       " (24, 'Afrociberdelia', 18),\n",
       " (25, 'Da Lama Ao Caos', 18),\n",
       " (26, 'Acústico MTV [Live]', 19),\n",
       " (27, 'Cidade Negra - Hits', 19),\n",
       " (28, 'Na Pista', 20),\n",
       " (29, 'Axé Bahia 2001', 21),\n",
       " (30, 'BBC Sessions [Disc 1] [Live]', 22),\n",
       " (31, 'Bongo Fury', 23),\n",
       " (32, 'Carnaval 2001', 21),\n",
       " (33, 'Chill: Brazil (Disc 1)', 24),\n",
       " (34, 'Chill: Brazil (Disc 2)', 6),\n",
       " (35, 'Garage Inc. (Disc 1)', 50),\n",
       " (36, 'Greatest Hits II', 51),\n",
       " (37, 'Greatest Kiss', 52),\n",
       " (38, 'Heart of the Night', 53),\n",
       " (39, 'International Superhits', 54),\n",
       " (40, 'Into The Light', 55),\n",
       " (41, 'Meus Momentos', 56),\n",
       " (42, 'Minha História', 57),\n",
       " (43, 'MK III The Final Concerts [Disc 1]', 58),\n",
       " (44, 'Physical Graffiti [Disc 1]', 22),\n",
       " (45, 'Sambas De Enredo 2001', 21),\n",
       " (46, 'Supernatural', 59),\n",
       " (47, 'The Best of Ed Motta', 37),\n",
       " (48, 'The Essential Miles Davis [Disc 1]', 68),\n",
       " (49, 'The Essential Miles Davis [Disc 2]', 68),\n",
       " (50, 'The Final Concerts (Disc 2)', 58),\n",
       " (51, \"Up An' Atom\", 69),\n",
       " (52, 'Vinícius De Moraes - Sem Limite', 70),\n",
       " (53, 'Vozes do MPB', 21),\n",
       " (54, 'Chronicle, Vol. 1', 76),\n",
       " (55, 'Chronicle, Vol. 2', 76),\n",
       " (56, 'Cássia Eller - Coleção Sem Limite [Disc 2]', 77),\n",
       " (57, 'Cássia Eller - Sem Limite [Disc 1]', 77),\n",
       " (58, 'Come Taste The Band', 58),\n",
       " (59, 'Deep Purple In Rock', 58),\n",
       " (60, 'Fireball', 58),\n",
       " (61, \"Knocking at Your Back Door: The Best Of Deep Purple in the 80's\", 58),\n",
       " (62, 'Machine Head', 58),\n",
       " (63, 'Purpendicular', 58),\n",
       " (64, 'Slaves And Masters', 58),\n",
       " (65, 'Stormbringer', 58),\n",
       " (66, 'The Battle Rages On', 58),\n",
       " (67, \"Vault: Def Leppard's Greatest Hits\", 78),\n",
       " (68, 'Outbreak', 79),\n",
       " (69, 'Djavan Ao Vivo - Vol. 02', 80),\n",
       " (70, 'Djavan Ao Vivo - Vol. 1', 80),\n",
       " (71, 'Elis Regina-Minha História', 41),\n",
       " (72, 'The Cream Of Clapton', 81),\n",
       " (73, 'Unplugged', 81),\n",
       " (74, 'Album Of The Year', 82),\n",
       " (75, 'Angel Dust', 82),\n",
       " (76, 'King For A Day Fool For A Lifetime', 82),\n",
       " (77, 'The Real Thing', 82),\n",
       " (78, 'Deixa Entrar', 83),\n",
       " (79, 'In Your Honor [Disc 1]', 84),\n",
       " (80, 'In Your Honor [Disc 2]', 84),\n",
       " (81, 'One By One', 84),\n",
       " (82, 'The Colour And The Shape', 84),\n",
       " (83, 'My Way: The Best Of Frank Sinatra [Disc 1]', 85),\n",
       " (84, 'Roda De Funk', 86),\n",
       " (85, 'As Canções de Eu Tu Eles', 27),\n",
       " (86, 'Quanta Gente Veio Ver (Live)', 27),\n",
       " (87, 'Quanta Gente Veio ver--Bônus De Carnaval', 27),\n",
       " (88, 'Faceless', 87),\n",
       " (89, 'American Idiot', 54),\n",
       " (90, 'Appetite for Destruction', 88),\n",
       " (91, 'Use Your Illusion I', 88),\n",
       " (92, 'Use Your Illusion II', 88),\n",
       " (93, 'Blue Moods', 89),\n",
       " (94, 'A Matter of Life and Death', 90),\n",
       " (95, 'A Real Dead One', 90),\n",
       " (96, 'A Real Live One', 90),\n",
       " (97, 'Brave New World', 90),\n",
       " (98, 'Dance Of Death', 90),\n",
       " (99, 'Fear Of The Dark', 90),\n",
       " (100, 'Iron Maiden', 90),\n",
       " (101, 'Killers', 90),\n",
       " (102, 'Live After Death', 90),\n",
       " (103, 'Live At Donington 1992 (Disc 1)', 90),\n",
       " (104, 'Live At Donington 1992 (Disc 2)', 90),\n",
       " (105, 'No Prayer For The Dying', 90),\n",
       " (106, 'Piece Of Mind', 90),\n",
       " (107, 'Powerslave', 90),\n",
       " (108, 'Rock In Rio [CD1]', 90),\n",
       " (109, 'Rock In Rio [CD2]', 90),\n",
       " (110, 'Seventh Son of a Seventh Son', 90),\n",
       " (111, 'Somewhere in Time', 90),\n",
       " (112, 'The Number of The Beast', 90),\n",
       " (113, 'The X Factor', 90),\n",
       " (114, 'Virtual XI', 90),\n",
       " (115, 'Sex Machine', 91),\n",
       " (116, 'Emergency On Planet Earth', 92),\n",
       " (117, 'Synkronized', 92),\n",
       " (118, 'The Return Of The Space Cowboy', 92),\n",
       " (119, 'Get Born', 93),\n",
       " (120, 'Are You Experienced?', 94),\n",
       " (121, 'Surfing with the Alien (Remastered)', 95),\n",
       " (122, 'Jorge Ben Jor 25 Anos', 46),\n",
       " (123, 'Jota Quest-1995', 96),\n",
       " (124, 'Cafezinho', 97),\n",
       " (125, 'Living After Midnight', 98),\n",
       " (126, 'Unplugged [Live]', 52),\n",
       " (127, 'BBC Sessions [Disc 2] [Live]', 22),\n",
       " (128, 'Coda', 22),\n",
       " (129, 'Houses Of The Holy', 22),\n",
       " (130, 'In Through The Out Door', 22),\n",
       " (131, 'IV', 22),\n",
       " (132, 'Led Zeppelin I', 22),\n",
       " (133, 'Led Zeppelin II', 22),\n",
       " (134, 'Led Zeppelin III', 22),\n",
       " (135, 'Physical Graffiti [Disc 2]', 22),\n",
       " (136, 'Presence', 22),\n",
       " (137, 'The Song Remains The Same (Disc 1)', 22),\n",
       " (138, 'The Song Remains The Same (Disc 2)', 22),\n",
       " (139, 'A TempestadeTempestade Ou O Livro Dos Dias', 99),\n",
       " (140, 'Mais Do Mesmo', 99),\n",
       " (141, 'Greatest Hits', 100),\n",
       " (142, 'Lulu Santos - RCA 100 Anos De Música - Álbum 01', 101),\n",
       " (143, 'Lulu Santos - RCA 100 Anos De Música - Álbum 02', 101),\n",
       " (144, 'Misplaced Childhood', 102),\n",
       " (145, 'Barulhinho Bom', 103),\n",
       " (146, 'Seek And Shall Find: More Of The Best (1963-1981)', 104),\n",
       " (147, 'The Best Of Men At Work', 105),\n",
       " (148, 'Black Album', 50),\n",
       " (149, 'Garage Inc. (Disc 2)', 50),\n",
       " (150, \"Kill 'Em All\", 50),\n",
       " (151, 'Load', 50),\n",
       " (152, 'Master Of Puppets', 50),\n",
       " (153, 'ReLoad', 50),\n",
       " (154, 'Ride The Lightning', 50),\n",
       " (155, 'St. Anger', 50),\n",
       " (156, '...And Justice For All', 50),\n",
       " (157, 'Miles Ahead', 68),\n",
       " (158, 'Milton Nascimento Ao Vivo', 42),\n",
       " (159, 'Minas', 42),\n",
       " (160, 'Ace Of Spades', 106),\n",
       " (161, 'Demorou...', 108),\n",
       " (162, 'Motley Crue Greatest Hits', 109),\n",
       " (163, 'From The Muddy Banks Of The Wishkah [Live]', 110),\n",
       " (164, 'Nevermind', 110),\n",
       " (165, 'Compositores', 111),\n",
       " (166, 'Olodum', 112),\n",
       " (167, 'Acústico MTV', 113),\n",
       " (168, 'Arquivo II', 113),\n",
       " (169, 'Arquivo Os Paralamas Do Sucesso', 113),\n",
       " (170, 'Bark at the Moon (Remastered)', 114),\n",
       " (171, 'Blizzard of Ozz', 114),\n",
       " (172, 'Diary of a Madman (Remastered)', 114),\n",
       " (173, 'No More Tears (Remastered)', 114),\n",
       " (174, 'Tribute', 114),\n",
       " (175, 'Walking Into Clarksdale', 115),\n",
       " (176, 'Original Soundtracks 1', 116),\n",
       " (177, 'The Beast Live', 117),\n",
       " (178, 'Live On Two Legs [Live]', 118),\n",
       " (179, 'Pearl Jam', 118),\n",
       " (180, 'Riot Act', 118),\n",
       " (181, 'Ten', 118),\n",
       " (182, 'Vs.', 118),\n",
       " (183, 'Dark Side Of The Moon', 120),\n",
       " (184, 'Os Cães Ladram Mas A Caravana Não Pára', 121),\n",
       " (185, 'Greatest Hits I', 51),\n",
       " (186, 'News Of The World', 51),\n",
       " (187, 'Out Of Time', 122),\n",
       " (188, 'Green', 124),\n",
       " (189, 'New Adventures In Hi-Fi', 124),\n",
       " (190, 'The Best Of R.E.M.: The IRS Years', 124),\n",
       " (191, 'Cesta Básica', 125),\n",
       " (192, 'Raul Seixas', 126),\n",
       " (193, 'Blood Sugar Sex Magik', 127),\n",
       " (194, 'By The Way', 127),\n",
       " (195, 'Californication', 127),\n",
       " (196, 'Retrospective I (1974-1980)', 128),\n",
       " (197, 'Santana - As Years Go By', 59),\n",
       " (198, 'Santana Live', 59),\n",
       " (199, 'Maquinarama', 130),\n",
       " (200, 'O Samba Poconé', 130),\n",
       " (201, 'Judas 0: B-Sides and Rarities', 131),\n",
       " (202, 'Rotten Apples: Greatest Hits', 131),\n",
       " (203, 'A-Sides', 132),\n",
       " (204, 'Morning Dance', 53),\n",
       " (205, 'In Step', 133),\n",
       " (206, 'Core', 134),\n",
       " (207, 'Mezmerize', 135),\n",
       " (208, '[1997] Black Light Syndrome', 136),\n",
       " (209, 'Live [Disc 1]', 137),\n",
       " (210, 'Live [Disc 2]', 137),\n",
       " (211, 'The Singles', 138),\n",
       " (212, 'Beyond Good And Evil', 139),\n",
       " (213,\n",
       "  'Pure Cult: The Best Of The Cult (For Rockers, Ravers, Lovers & Sinners) [UK]',\n",
       "  139),\n",
       " (214, 'The Doors', 140),\n",
       " (215, 'The Police Greatest Hits', 141),\n",
       " (216, 'Hot Rocks, 1964-1971 (Disc 1)', 142),\n",
       " (217, 'No Security', 142),\n",
       " (218, 'Voodoo Lounge', 142),\n",
       " (219, 'Tangents', 143),\n",
       " (220, 'Transmission', 143),\n",
       " (221, 'My Generation - The Very Best Of The Who', 144),\n",
       " (222, 'Serie Sem Limite (Disc 1)', 145),\n",
       " (223, 'Serie Sem Limite (Disc 2)', 145),\n",
       " (224, 'Acústico', 146),\n",
       " (225, 'Volume Dois', 146),\n",
       " (226, 'Battlestar Galactica: The Story So Far', 147),\n",
       " (227, 'Battlestar Galactica, Season 3', 147),\n",
       " (228, 'Heroes, Season 1', 148),\n",
       " (229, 'Lost, Season 3', 149),\n",
       " (230, 'Lost, Season 1', 149),\n",
       " (231, 'Lost, Season 2', 149),\n",
       " (232, 'Achtung Baby', 150),\n",
       " (233, \"All That You Can't Leave Behind\", 150),\n",
       " (234, 'B-Sides 1980-1990', 150),\n",
       " (235, 'How To Dismantle An Atomic Bomb', 150),\n",
       " (236, 'Pop', 150),\n",
       " (237, 'Rattle And Hum', 150),\n",
       " (238, 'The Best Of 1980-1990', 150),\n",
       " (239, 'War', 150),\n",
       " (240, 'Zooropa', 150),\n",
       " (241, 'UB40 The Best Of - Volume Two [UK]', 151),\n",
       " (242, 'Diver Down', 152),\n",
       " (243, 'The Best Of Van Halen, Vol. I', 152),\n",
       " (244, 'Van Halen', 152),\n",
       " (245, 'Van Halen III', 152),\n",
       " (246, 'Contraband', 153),\n",
       " (247, 'Vinicius De Moraes', 72),\n",
       " (248, 'Ao Vivo [IMPORT]', 155),\n",
       " (249, 'The Office, Season 1', 156),\n",
       " (250, 'The Office, Season 2', 156),\n",
       " (251, 'The Office, Season 3', 156),\n",
       " (252, 'Un-Led-Ed', 157),\n",
       " (253, 'Battlestar Galactica (Classic), Season 1', 158),\n",
       " (254, 'Aquaman', 159),\n",
       " (255,\n",
       "  'Instant Karma: The Amnesty International Campaign to Save Darfur',\n",
       "  150),\n",
       " (256, 'Speak of the Devil', 114),\n",
       " (257,\n",
       "  '20th Century Masters - The Millennium Collection: The Best of Scorpions',\n",
       "  179),\n",
       " (258, 'House of Pain', 180),\n",
       " (259,\n",
       "  'Radio Brasil (O Som da Jovem Vanguarda) - Seleccao de Henrique Amaro',\n",
       "  36),\n",
       " (260, 'Cake: B-Sides and Rarities', 196),\n",
       " (261, 'LOST, Season 4', 149),\n",
       " (262, 'Quiet Songs', 197),\n",
       " (263, 'Muso Ko', 198),\n",
       " (264, 'Realize', 199),\n",
       " (265, 'Every Kind of Light', 200),\n",
       " (266, 'Duos II', 201),\n",
       " (267, 'Worlds', 202),\n",
       " (268, 'The Best of Beethoven', 203),\n",
       " (269, 'Temple of the Dog', 204),\n",
       " (270, 'Carry On', 205),\n",
       " (271, 'Revelations', 8),\n",
       " (272, 'Adorate Deum: Gregorian Chant from the Proper of the Mass', 206),\n",
       " (273, 'Allegri: Miserere', 207),\n",
       " (274, 'Pachelbel: Canon & Gigue', 208),\n",
       " (275, 'Vivaldi: The Four Seasons', 209),\n",
       " (276, 'Bach: Violin Concertos', 210),\n",
       " (277, 'Bach: Goldberg Variations', 211),\n",
       " (278, 'Bach: The Cello Suites', 212),\n",
       " (279, 'Handel: The Messiah (Highlights)', 213),\n",
       " (280, 'The World of Classical Favourites', 214),\n",
       " (281, 'Sir Neville Marriner: A Celebration', 215),\n",
       " (282, 'Mozart: Wind Concertos', 216),\n",
       " (283, 'Haydn: Symphonies 99 - 104', 217),\n",
       " (284, 'Beethoven: Symhonies Nos. 5 & 6', 218),\n",
       " (285, 'A Soprano Inspired', 219),\n",
       " (286, 'Great Opera Choruses', 220),\n",
       " (287, 'Wagner: Favourite Overtures', 221),\n",
       " (288, 'Fauré: Requiem, Ravel: Pavane & Others', 222),\n",
       " (289, 'Tchaikovsky: The Nutcracker', 223),\n",
       " (290, 'The Last Night of the Proms', 224),\n",
       " (291, 'Puccini: Madama Butterfly - Highlights', 225),\n",
       " (292, 'Holst: The Planets, Op. 32 & Vaughan Williams: Fantasies', 226),\n",
       " (293, \"Pavarotti's Opera Made Easy\", 227),\n",
       " (294,\n",
       "  \"Great Performances - Barber's Adagio and Other Romantic Favorites for Strings\",\n",
       "  228),\n",
       " (295, 'Carmina Burana', 229),\n",
       " (296, 'A Copland Celebration, Vol. I', 230),\n",
       " (297, 'Bach: Toccata & Fugue in D Minor', 231),\n",
       " (298, 'Prokofiev: Symphony No.1', 232),\n",
       " (299, 'Scheherazade', 233),\n",
       " (300, 'Bach: The Brandenburg Concertos', 234),\n",
       " (301, 'Chopin: Piano Concertos Nos. 1 & 2', 235),\n",
       " (302, 'Mascagni: Cavalleria Rusticana', 236),\n",
       " (303, 'Sibelius: Finlandia', 237),\n",
       " (304, 'Beethoven Piano Sonatas: Moonlight & Pastorale', 238),\n",
       " (305, 'Great Recordings of the Century - Mahler: Das Lied von der Erde', 240),\n",
       " (306, 'Elgar: Cello Concerto & Vaughan Williams: Fantasias', 241),\n",
       " (307, 'Adams, John: The Chairman Dances', 242),\n",
       " (308,\n",
       "  \"Tchaikovsky: 1812 Festival Overture, Op.49, Capriccio Italien & Beethoven: Wellington's Victory\",\n",
       "  243),\n",
       " (309, 'Palestrina: Missa Papae Marcelli & Allegri: Miserere', 244),\n",
       " (310, 'Prokofiev: Romeo & Juliet', 245),\n",
       " (311, 'Strauss: Waltzes', 226),\n",
       " (312, 'Berlioz: Symphonie Fantastique', 245),\n",
       " (313, 'Bizet: Carmen Highlights', 246),\n",
       " (314, 'English Renaissance', 247),\n",
       " (315, 'Handel: Music for the Royal Fireworks (Original Version 1749)', 208),\n",
       " (316, 'Grieg: Peer Gynt Suites & Sibelius: Pelléas et Mélisande', 248),\n",
       " (317, 'Mozart Gala: Famous Arias', 249),\n",
       " (318, 'SCRIABIN: Vers la flamme', 250),\n",
       " (319, 'Armada: Music from the Courts of England and Spain', 251),\n",
       " (320, 'Mozart: Symphonies Nos. 40 & 41', 248),\n",
       " (321, 'Back to Black', 252),\n",
       " (322, 'Frank', 252),\n",
       " (323, 'Carried to Dust (Bonus Track Version)', 253),\n",
       " (324, \"Beethoven: Symphony No. 6 'Pastoral' Etc.\", 254),\n",
       " (325, 'Bartok: Violin & Viola Concertos', 255),\n",
       " (326, \"Mendelssohn: A Midsummer Night's Dream\", 256),\n",
       " (327, 'Bach: Orchestral Suites Nos. 1 - 4', 257),\n",
       " (328, 'Charpentier: Divertissements, Airs & Concerts', 258),\n",
       " (329, 'South American Getaway', 259),\n",
       " (330, 'Górecki: Symphony No. 3', 260),\n",
       " (331, 'Purcell: The Fairy Queen', 261),\n",
       " (332, 'The Ultimate Relexation Album', 262),\n",
       " (333, 'Purcell: Music for the Queen Mary', 263),\n",
       " (334, 'Weill: The Seven Deadly Sins', 264),\n",
       " (335,\n",
       "  'J.S. Bach: Chaconne, Suite in E Minor, Partita in E Major & Prelude, Fugue and Allegro',\n",
       "  265),\n",
       " (336, 'Prokofiev: Symphony No.5 & Stravinksy: Le Sacre Du Printemps', 248),\n",
       " (337, 'Szymanowski: Piano Works, Vol. 1', 266),\n",
       " (338, 'Nielsen: The Six Symphonies', 267),\n",
       " (339, \"Great Recordings of the Century: Paganini's 24 Caprices\", 268),\n",
       " (340, \"Liszt - 12 Études D'Execution Transcendante\", 269),\n",
       " (341,\n",
       "  'Great Recordings of the Century - Shubert: Schwanengesang, 4 Lieder',\n",
       "  270),\n",
       " (342, 'Locatelli: Concertos for Violin, Strings and Continuo, Vol. 3', 271),\n",
       " (343, 'Respighi:Pines of Rome', 226),\n",
       " (344, \"Schubert: The Late String Quartets & String Quintet (3 CD's)\", 272),\n",
       " (345, \"Monteverdi: L'Orfeo\", 273),\n",
       " (346, 'Mozart: Chamber Music', 274),\n",
       " (347, 'Koyaanisqatsi (Soundtrack from the Motion Picture)', 275)]"
      ]
     },
     "execution_count": 7,
     "metadata": {},
     "output_type": "execute_result"
    }
   ],
   "source": [
    "cur.execute(query).fetchall()"
   ]
  },
  {
   "cell_type": "markdown",
   "id": "e5ed0fb4",
   "metadata": {},
   "source": [
    "## Récupérer tous les albums dont le titre contient \"Great\""
   ]
  },
  {
   "cell_type": "code",
   "execution_count": 14,
   "id": "23c9fd3f",
   "metadata": {},
   "outputs": [],
   "source": [
    "query = \"\"\"\n",
    "SELECT * FROM albums\n",
    "WHERE Title LIKE \"%Great%\"\n",
    "\"\"\""
   ]
  },
  {
   "cell_type": "code",
   "execution_count": 15,
   "id": "6f01a59c",
   "metadata": {},
   "outputs": [
    {
     "data": {
      "text/plain": [
       "[(36, 'Greatest Hits II', 51),\n",
       " (37, 'Greatest Kiss', 52),\n",
       " (67, \"Vault: Def Leppard's Greatest Hits\", 78),\n",
       " (141, 'Greatest Hits', 100),\n",
       " (162, 'Motley Crue Greatest Hits', 109),\n",
       " (185, 'Greatest Hits I', 51),\n",
       " (202, 'Rotten Apples: Greatest Hits', 131),\n",
       " (215, 'The Police Greatest Hits', 141),\n",
       " (286, 'Great Opera Choruses', 220),\n",
       " (294,\n",
       "  \"Great Performances - Barber's Adagio and Other Romantic Favorites for Strings\",\n",
       "  228),\n",
       " (305, 'Great Recordings of the Century - Mahler: Das Lied von der Erde', 240),\n",
       " (339, \"Great Recordings of the Century: Paganini's 24 Caprices\", 268),\n",
       " (341,\n",
       "  'Great Recordings of the Century - Shubert: Schwanengesang, 4 Lieder',\n",
       "  270)]"
      ]
     },
     "execution_count": 15,
     "metadata": {},
     "output_type": "execute_result"
    }
   ],
   "source": [
    "cur.execute(query).fetchall()"
   ]
  },
  {
   "cell_type": "markdown",
   "id": "65e1d846",
   "metadata": {},
   "source": [
    "## Donner le nombre total d'albums contenus dans la base (sans regarder les id bien sûr)"
   ]
  },
  {
   "cell_type": "code",
   "execution_count": 16,
   "id": "8bdef690",
   "metadata": {},
   "outputs": [
    {
     "data": {
      "text/plain": [
       "[(347,)]"
      ]
     },
     "execution_count": 16,
     "metadata": {},
     "output_type": "execute_result"
    }
   ],
   "source": [
    "query = \"SELECT count(*) FROM albums\"\n",
    "cur.execute(query).fetchall()"
   ]
  },
  {
   "cell_type": "markdown",
   "id": "e4758019",
   "metadata": {},
   "source": [
    "## Supprimer tous les albums dont le nom contient \"music\""
   ]
  },
  {
   "cell_type": "code",
   "execution_count": 19,
   "id": "e293f4a6",
   "metadata": {},
   "outputs": [
    {
     "data": {
      "text/plain": [
       "[(4,)]"
      ]
     },
     "execution_count": 19,
     "metadata": {},
     "output_type": "execute_result"
    }
   ],
   "source": [
    "# albums containing \"music\"\n",
    "query = \"\"\"\n",
    "SELECT count(*) FROM ALBUMS \n",
    "WHERE Title LIKE \"%music%\" \"\"\"\n",
    "cur.execute(query).fetchall()"
   ]
  },
  {
   "cell_type": "code",
   "execution_count": 44,
   "id": "26838785",
   "metadata": {},
   "outputs": [
    {
     "data": {
      "text/plain": [
       "<sqlite3.Cursor at 0x7f3a40ae6340>"
      ]
     },
     "execution_count": 44,
     "metadata": {},
     "output_type": "execute_result"
    }
   ],
   "source": [
    "# deleting \n",
    "query = \"\"\"\n",
    "DELETE FROM albums\n",
    "WHERE Title LIKE \"%music%\"\n",
    "\"\"\"\n",
    "cur.execute(query)"
   ]
  },
  {
   "cell_type": "code",
   "execution_count": 37,
   "id": "5f51edf7",
   "metadata": {},
   "outputs": [],
   "source": [
    "# albums containing \"music\"\n",
    "query = \"\"\"\n",
    "SELECT count(*) FROM ALBUMS \n",
    "WHERE Title LIKE \"%music%\" \"\"\""
   ]
  },
  {
   "cell_type": "code",
   "execution_count": 38,
   "id": "b6b8d33a",
   "metadata": {},
   "outputs": [
    {
     "data": {
      "text/plain": [
       "[(0,)]"
      ]
     },
     "execution_count": 38,
     "metadata": {},
     "output_type": "execute_result"
    }
   ],
   "source": [
    "cur.execute(query).fetchall()"
   ]
  },
  {
   "cell_type": "markdown",
   "id": "64d25796",
   "metadata": {},
   "source": [
    "## Récupérer tous les albums écrits par AC/DC"
   ]
  },
  {
   "cell_type": "code",
   "execution_count": 45,
   "id": "5c62d6f8",
   "metadata": {},
   "outputs": [
    {
     "data": {
      "text/plain": [
       "[(1, 'For Those About To Rock We Salute You', 1, 1, 'AC/DC'),\n",
       " (4, 'Let There Be Rock', 1, 1, 'AC/DC')]"
      ]
     },
     "execution_count": 45,
     "metadata": {},
     "output_type": "execute_result"
    }
   ],
   "source": [
    "query = \"\"\"\n",
    "SELECT * FROM albums\n",
    "LEFT JOIN artists on albums.ArtistId=artists.ArtistId\n",
    "WHERE artists.Name = \"AC/DC\"\n",
    "\"\"\"\n",
    "cur.execute(query).fetchall()"
   ]
  },
  {
   "cell_type": "markdown",
   "id": "eac5e659",
   "metadata": {},
   "source": [
    "## Récupérer tous les titres des albums de AC/DC"
   ]
  },
  {
   "cell_type": "code",
   "execution_count": 46,
   "id": "76f0941a",
   "metadata": {},
   "outputs": [
    {
     "data": {
      "text/plain": [
       "[('For Those About To Rock (We Salute You)',),\n",
       " ('Put The Finger On You',),\n",
       " (\"Let's Get It Up\",),\n",
       " ('Inject The Venom',),\n",
       " ('Snowballed',),\n",
       " ('Evil Walks',),\n",
       " ('C.O.D.',),\n",
       " ('Breaking The Rules',),\n",
       " ('Night Of The Long Knives',),\n",
       " ('Spellbound',),\n",
       " ('Go Down',),\n",
       " ('Dog Eat Dog',),\n",
       " ('Let There Be Rock',),\n",
       " ('Bad Boy Boogie',),\n",
       " ('Problem Child',),\n",
       " ('Overdose',),\n",
       " (\"Hell Ain't A Bad Place To Be\",),\n",
       " ('Whole Lotta Rosie',)]"
      ]
     },
     "execution_count": 46,
     "metadata": {},
     "output_type": "execute_result"
    }
   ],
   "source": [
    "query = \"\"\"\n",
    "SELECT tracks.Name from tracks\n",
    "LEFT JOIN albums on tracks.AlbumId = albums.AlbumID\n",
    "LEFT JOIN artists on artists.ArtistId = albums.ArtistId\n",
    "WHERE artists.Name = \"AC/DC\"\n",
    "\"\"\"\n",
    "cur.execute(query).fetchall()"
   ]
  },
  {
   "cell_type": "markdown",
   "id": "c41b6ef3",
   "metadata": {},
   "source": [
    "## Récupérer la liste des titres de l'album \"Let There Be Rock\""
   ]
  },
  {
   "cell_type": "code",
   "execution_count": 52,
   "id": "c36d8679",
   "metadata": {},
   "outputs": [
    {
     "data": {
      "text/plain": [
       "[('Go Down',),\n",
       " ('Dog Eat Dog',),\n",
       " ('Let There Be Rock',),\n",
       " ('Bad Boy Boogie',),\n",
       " ('Problem Child',),\n",
       " ('Overdose',),\n",
       " (\"Hell Ain't A Bad Place To Be\",),\n",
       " ('Whole Lotta Rosie',)]"
      ]
     },
     "execution_count": 52,
     "metadata": {},
     "output_type": "execute_result"
    }
   ],
   "source": [
    "query = \"\"\"\n",
    "SELECT tracks.Name from tracks\n",
    "LEFT JOIN albums on albums.AlbumId = tracks.AlbumId\n",
    "WHERE albums.Title = \"Let There Be Rock\"\n",
    "\"\"\"\n",
    "cur.execute(query).fetchall()"
   ]
  },
  {
   "cell_type": "markdown",
   "id": "1f818ce0",
   "metadata": {},
   "source": [
    "## Afficher le prix de cet album ainsi que sa durée totale"
   ]
  },
  {
   "cell_type": "code",
   "execution_count": 63,
   "id": "e5e2ccfa",
   "metadata": {},
   "outputs": [],
   "source": [
    "query = \"\"\"\n",
    "SELECT SUM(tracks.Milliseconds)/(1000*60) as duration, SUM(invoice_items.UnitPrice) FROM tracks\n",
    "LEFT JOIN albums on albums.AlbumID = tracks.albumID\n",
    "LEFT JOIN invoice_items on invoice_items.TrackId = tracks.TrackId\n",
    "WHERE albums.Title = \"Let There Be Rock\"\n",
    "\"\"\" "
   ]
  },
  {
   "cell_type": "code",
   "execution_count": 64,
   "id": "bd6b46d8",
   "metadata": {},
   "outputs": [
    {
     "data": {
      "text/plain": [
       "[(47, 5.94)]"
      ]
     },
     "execution_count": 64,
     "metadata": {},
     "output_type": "execute_result"
    }
   ],
   "source": [
    "cur.execute(query).fetchall()"
   ]
  },
  {
   "cell_type": "code",
   "execution_count": null,
   "id": "d3c4645e",
   "metadata": {},
   "outputs": [],
   "source": [
    "# 47 minutes, $5.94"
   ]
  },
  {
   "cell_type": "markdown",
   "id": "b1d5305d",
   "metadata": {},
   "source": [
    "## Afficher le coût de l'intégralité de la discographie de \"Deep Purple\""
   ]
  },
  {
   "cell_type": "code",
   "execution_count": 65,
   "id": "f2a1a090",
   "metadata": {},
   "outputs": [
    {
     "data": {
      "text/plain": [
       "[(43.56,)]"
      ]
     },
     "execution_count": 65,
     "metadata": {},
     "output_type": "execute_result"
    }
   ],
   "source": [
    "query = \"\"\"\n",
    "SELECT SUM(invoice_items.UnitPrice) FROM invoice_items\n",
    "LEFT join tracks on invoice_items.TrackId = tracks.TrackId\n",
    "LEFT join albums on albums.AlbumId = tracks.AlbumId\n",
    "LEFT join artists on artists.ArtistId = albums.ArtistId\n",
    "WHERE artists.Name = \"Deep Purple\"\n",
    "\"\"\"\n",
    "cur.execute(query).fetchall()"
   ]
  },
  {
   "cell_type": "code",
   "execution_count": null,
   "id": "d157f13e",
   "metadata": {},
   "outputs": [],
   "source": [
    "# $43.56"
   ]
  },
  {
   "cell_type": "markdown",
   "id": "5dbef524",
   "metadata": {},
   "source": [
    "## Créer l'album de ton artiste favori en base, en renseignant correctement les trois tables albums, artists et tracks"
   ]
  },
  {
   "cell_type": "code",
   "execution_count": 84,
   "id": "2ff97661",
   "metadata": {},
   "outputs": [
    {
     "data": {
      "text/plain": [
       "<sqlite3.Cursor at 0x7f3a40ae6340>"
      ]
     },
     "execution_count": 84,
     "metadata": {},
     "output_type": "execute_result"
    }
   ],
   "source": [
    "cur.execute('INSERT INTO artists (Name) VALUES(\"Crystal Castle\")')\n",
    "id = cur.lastrowid\n",
    "cur.execute(f'INSERT INTO albums (ArtistId, Title) VALUES({id}, \"Crystal Castles (II)\")')\n",
    "id = cur.lastrowid\n",
    "cur.execute(f'INSERT INTO tracks (AlbumID, Name, MediaTypeId, Milliseconds, UnitPrice) VALUES ({id}, \"Alice Practice\", 0, 185000, 2.2), ({id}, \"Plague\", 0, 220000, 3.05)')"
   ]
  },
  {
   "cell_type": "code",
   "execution_count": 87,
   "id": "79d91046",
   "metadata": {},
   "outputs": [],
   "source": [
    "query = \"\"\"\n",
    "SELECT Name FROM tracks\n",
    "LEFT JOIN albums on albums.AlbumId = tracks.AlbumId\n",
    "WHERE albums.Title LIKE \"%Crystal%\"\n",
    "\"\"\""
   ]
  },
  {
   "cell_type": "code",
   "execution_count": 88,
   "id": "668557dc",
   "metadata": {},
   "outputs": [
    {
     "data": {
      "text/plain": [
       "[('Alice Practice',), ('Plague',)]"
      ]
     },
     "execution_count": 88,
     "metadata": {},
     "output_type": "execute_result"
    }
   ],
   "source": [
    "cur.execute(query).fetchall()"
   ]
  },
  {
   "cell_type": "code",
   "execution_count": null,
   "id": "4fb32c15",
   "metadata": {},
   "outputs": [],
   "source": []
  }
 ],
 "metadata": {
  "kernelspec": {
   "display_name": "Python 3 (ipykernel)",
   "language": "python",
   "name": "python3"
  },
  "language_info": {
   "codemirror_mode": {
    "name": "ipython",
    "version": 3
   },
   "file_extension": ".py",
   "mimetype": "text/x-python",
   "name": "python",
   "nbconvert_exporter": "python",
   "pygments_lexer": "ipython3",
   "version": "3.10.4"
  }
 },
 "nbformat": 4,
 "nbformat_minor": 5
}
